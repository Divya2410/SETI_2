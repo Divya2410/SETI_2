{
 "cells": [
  {
   "cell_type": "code",
   "execution_count": 8,
   "metadata": {},
   "outputs": [],
   "source": [
    "from blimpy import Waterfall\n",
    "fb = Waterfall('Voyager1.single_coarse.fine_res.h5')\n",
    "#fb = Waterfall('/path/to/filterbank.h5') #works the same way\n",
    "import matplotlib.pyplot as plt\n"
   ]
  },
  {
   "cell_type": "code",
   "execution_count": 2,
   "metadata": {},
   "outputs": [
    {
     "name": "stdout",
     "output_type": "stream",
     "text": [
      "\n",
      "--- File Info ---\n",
      "DIMENSION_LABELS : [b'frequency' b'feed_id' b'time']\n",
      "        az_start :                              0.0\n",
      "       data_type :                                1\n",
      "            fch1 :            8421.386717353016 MHz\n",
      "            foff :      -2.7939677238464355e-06 MHz\n",
      "           ibeam :                                1\n",
      "      machine_id :                               20\n",
      "          nbeams :                                1\n",
      "           nbits :                               32\n",
      "          nchans :                          1048576\n",
      "            nifs :                                1\n",
      "     rawdatafile : guppi_57650_67573_Voyager1_0002.0000.raw\n",
      "     source_name :                         Voyager1\n",
      "         src_dej :                       12:10:58.8\n",
      "         src_raj :                     17:10:03.984\n",
      "    telescope_id :                                6\n",
      "           tsamp :                     18.253611008\n",
      "   tstart (ISOT) :          2016-09-19T18:46:13.000\n",
      "    tstart (MJD) :                57650.78209490741\n",
      "        za_start :                              0.0\n",
      "\n",
      "Num ints in file :                               16\n",
      "      File shape :                 (16, 1, 1048576)\n",
      "--- Selection Info ---\n",
      "Data selection shape :                 (16, 1, 1048576)\n",
      "Minimum freq (MHz) :                8418.457032646984\n",
      "Maximum freq (MHz) :                8421.386717353016\n"
     ]
    }
   ],
   "source": [
    "fb.info()\n"
   ]
  },
  {
   "cell_type": "code",
   "execution_count": 3,
   "metadata": {},
   "outputs": [],
   "source": [
    "data = fb.data"
   ]
  },
  {
   "cell_type": "code",
   "execution_count": 15,
   "metadata": {},
   "outputs": [],
   "source": [
    "plt.figure(figsize=(10, 8))\n",
    "fb.plot_waterfall(f_start=8419.2740, f_stop=8419.2750)\n",
    "plt.savefig('waterfall1')"
   ]
  },
  {
   "cell_type": "code",
   "execution_count": null,
   "metadata": {},
   "outputs": [],
   "source": []
  }
 ],
 "metadata": {
  "kernelspec": {
   "display_name": "Python 3",
   "language": "python",
   "name": "python3"
  },
  "language_info": {
   "codemirror_mode": {
    "name": "ipython",
    "version": 3
   },
   "file_extension": ".py",
   "mimetype": "text/x-python",
   "name": "python",
   "nbconvert_exporter": "python",
   "pygments_lexer": "ipython3",
   "version": "3.7.6"
  }
 },
 "nbformat": 4,
 "nbformat_minor": 4
}
